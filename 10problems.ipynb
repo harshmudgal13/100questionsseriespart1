{
 "cells": [
  {
   "cell_type": "code",
   "execution_count": null,
   "id": "57b83b76",
   "metadata": {},
   "outputs": [
    {
     "name": "stdout",
     "output_type": "stream",
     "text": [
      "Weather is Hot and Humid\n",
      "weather is hot\n",
      "Weather is cool and Humid\n",
      "weather is cool\n"
     ]
    }
   ],
   "source": [
    "#16 Write a program that will determine weather when the value of temperature and humidity is provided by the user.\n",
    "# TEMPERATURE(C)      HUMIDITY(%)      WEATHER\n",
    "'''\n",
    "      >= 30                             >=90                Hot and Humid\n",
    "      >= 30                             < 90                 Hot\n",
    "      <30                                >= 90               Cool and Humid\n",
    "      <30                                 <90                 Cool\n",
    "      '''\n",
    "\n",
    "\n",
    "def determine_weather(temperature, humidity):\n",
    "    if temperature >= 30 and humidity >=90:\n",
    "       print(\"Weather is Hot and Humid\")\n",
    "    \n",
    "    elif temperature >= 30 and humidity <90:\n",
    "       print(\"weather is hot\")\n",
    "    \n",
    "    elif temperature <30 and humidity >=90:\n",
    "       print(\"Weather is cool and Humid\")\n",
    "    \n",
    "    elif temperature <30 and humidity <90:\n",
    "       print(\"weather is cool\")\n",
    "    \n",
    "\n",
    "determine_weather(35,94)\n",
    "determine_weather(35,75)\n",
    "determine_weather(24,94)\n",
    "determine_weather(25.7,84.8)\n",
    "\n"
   ]
  },
  {
   "cell_type": "code",
   "execution_count": 6,
   "id": "ce65326f",
   "metadata": {},
   "outputs": [
    {
     "name": "stdout",
     "output_type": "stream",
     "text": [
      "Hot and Humid\n"
     ]
    }
   ],
   "source": [
    "def determine_weather(temperature, humidity):\n",
    "    if temperature >= 30 and humidity >= 90:\n",
    "        return \"Hot and Humid\"\n",
    "    elif temperature >= 30 and humidity < 90:\n",
    "        return \"Hot\"\n",
    "    elif temperature < 30 and humidity >= 90:\n",
    "        return \"Cool and Humid\"\n",
    "    else:\n",
    "        return \"Cool\"\n",
    "\n",
    "weather = determine_weather(35, 94)\n",
    "print(weather)"
   ]
  },
  {
   "cell_type": "code",
   "execution_count": null,
   "id": "9b7af987",
   "metadata": {},
   "outputs": [
    {
     "name": "stdout",
     "output_type": "stream",
     "text": [
      "14\n"
     ]
    }
   ],
   "source": [
    "#17 Write a program that will take three digits from the user and add the square of each digit.\n",
    "\n",
    "def three_digit_number(num):\n",
    "\n",
    "    total = 0\n",
    "    while num > 0:\n",
    "        digit = num % 10         # Get last digit\n",
    "        total += digit ** 2      # Add square of digit\n",
    "        num //= 10               # Remove last digit\n",
    "    return total\n",
    "\n",
    "print(three_digit_number(123))"
   ]
  },
  {
   "cell_type": "code",
   "execution_count": 9,
   "id": "8cc3e358",
   "metadata": {},
   "outputs": [
    {
     "name": "stdout",
     "output_type": "stream",
     "text": [
      "153 is an Armstrong number.\n"
     ]
    }
   ],
   "source": [
    "#18 Write a program that will check whether the number is armstrong number or not.\n",
    "\n",
    "def armstrong_number_checker(number):\n",
    "\n",
    "    original = number\n",
    "\n",
    "    count = len(str(number))\n",
    "    total =0\n",
    "\n",
    "    while number > 0:\n",
    "        digit = number % 10         # Get last digit\n",
    "        total += digit ** count      # Add square of digit\n",
    "        number //= 10   \n",
    "  \n",
    "    if total == original:\n",
    "        print(f\"{original} is an Armstrong number.\")\n",
    "    else:\n",
    "        print(f\"{original} is not an Armstrong number.\")\n",
    "\n",
    "armstrong_number_checker(153)\n",
    "\n"
   ]
  },
  {
   "cell_type": "code",
   "execution_count": 13,
   "id": "2d694005",
   "metadata": {},
   "outputs": [
    {
     "name": "stdout",
     "output_type": "stream",
     "text": [
      "1634 is a narcissist  number.\n"
     ]
    }
   ],
   "source": [
    "#19 Write a program that will take user input of (4 digits number) and check whether the number is narcissist number or not.\n",
    "\n",
    "def narcissist_number_checker(number):\n",
    "\n",
    "    original = number\n",
    "\n",
    "    count = len(str(number))\n",
    "    total =0\n",
    "\n",
    "    if count != 4:\n",
    "        print(\"Please enter a four-digit number.\")\n",
    "        return\n",
    "\n",
    "    while number > 0 and count ==4:\n",
    "        digit = number % 10         # Get last digit\n",
    "        total += digit ** count      # Add square of digit\n",
    "        number //= 10   \n",
    "  \n",
    "    if total == original:\n",
    "        print(f\"{original} is a narcissist  number.\")\n",
    "    else:\n",
    "        print(f\"{original} is not a narcissist number.\")\n",
    "\n",
    "narcissist_number_checker(1634)"
   ]
  },
  {
   "cell_type": "code",
   "execution_count": null,
   "id": "2d526e19",
   "metadata": {},
   "outputs": [
    {
     "name": "stdout",
     "output_type": "stream",
     "text": [
      "In-hand salary after all deductions: ₹984000.00000\n"
     ]
    }
   ],
   "source": [
    "#20 Write a program that will give you the in hand salary after deduction of \n",
    "# HRA(10%),DA(5%),PF(3%), and tax(if salary is between 5-10 lakh–10%),(11-20lakh–20%),(20< _– 30%)(0-1lakh print k)\n",
    "\n",
    "def salary_tax_deduction(salary):\n",
    "\n",
    "    HRA = 10\n",
    "    DA = 5\n",
    "    PF = 3\n",
    "    total_deduction = (salary * (HRA + DA + PF)) / 100\n",
    "    in_hand_salary = salary - total_deduction\n",
    "\n",
    "\n",
    "    if 500000<=salary<=1000000 :\n",
    "        \n",
    "        tax = in_hand_salary*0.10\n",
    "\n",
    "    if 1100000<=salary<=2000000 :\n",
    "        \n",
    "        tax = in_hand_salary*0.2\n",
    "\n",
    "    elif 2000000<salary :\n",
    "       \n",
    "       tax = in_hand_salary*0.3\n",
    "    \n",
    "    elif salary <= 100000:\n",
    "        print(\"k\")\n",
    "        return\n",
    "    else:\n",
    "        tax = 0\n",
    "\n",
    "    final_salary = in_hand_salary - tax\n",
    "    print(f\"In-hand salary after all deductions: ₹{final_salary:.2f}\")\n",
    "\n",
    "salary_tax_deduction(1500000)"
   ]
  },
  {
   "cell_type": "code",
   "execution_count": 40,
   "id": "2114356e",
   "metadata": {},
   "outputs": [
    {
     "name": "stdout",
     "output_type": "stream",
     "text": [
      "Welcome1. please type '1' to convert the value of cm to ft.2. please type '2' to convert the value of km to miles.3. please type '3' to convert the value of inr to usd.4. please type '4' to exit.\n",
      "Choose your option2\n",
      "5 km is equals to 3.106855 miles\n"
     ]
    }
   ],
   "source": [
    "#21 Write a menu driven program - 1.cm to ft  2.kl to miles  3.usd to inr  4.exit\n",
    "\n",
    "def choose_program(program):\n",
    "\n",
    "    print(\"Welcome\"\n",
    "    \"1. please type '1' to convert the value of cm to ft.\"\n",
    "    \"2. please type '2' to convert the value of km to miles.\"\n",
    "    \"3. please type '3' to convert the value of inr to usd.\"\n",
    "    \"4. please type '4' to exit.\")\n",
    "    \n",
    "    print(f\"Choose your option{program}\")\n",
    "\n",
    "    while program ==1:\n",
    "\n",
    "        num = int(input(\"Enter the value to conver it from cm to feet: \"))\n",
    "        converted_value = num * 0.0328084\n",
    "\n",
    "        print(f\"{num} cm is equals to {converted_value} feet\")\n",
    "        \n",
    "        break\n",
    "          \n",
    "\n",
    "    while program==2:\n",
    "\n",
    "        num = int(input(\"Enter the value to conver it from km to miles: \"))\n",
    "        converted_value = num * 0.621371\n",
    "\n",
    "        print(f\"{num} km is equals to {converted_value} miles\")\n",
    "\n",
    "        break\n",
    "\n",
    "    while program==3:\n",
    "\n",
    "        num = int(input(\"Enter the value to conver it from usd to inr: \"))\n",
    "        converted_value = num * 88.07\n",
    "\n",
    "        print(f\"{num} usd is equals to {converted_value} inr\")\n",
    "\n",
    "        break\n",
    "\n",
    "    while program==4:\n",
    "\n",
    "        return \"Thank you for using our services\"\n",
    "    \n",
    "\n",
    "choose_program(2)\n",
    "\n",
    "\n",
    "\n"
   ]
  },
  {
   "cell_type": "code",
   "execution_count": null,
   "id": "7612c0cc",
   "metadata": {},
   "outputs": [
    {
     "name": "stdout",
     "output_type": "stream",
     "text": [
      "\n",
      "Welcome!\n",
      "1. Convert cm to feet\n",
      "2. Convert km to miles\n",
      "3. Convert USD to INR\n",
      "4. Exit\n",
      "32.0 cm = 1.05 feet\n",
      "\n",
      "Welcome!\n",
      "1. Convert cm to feet\n",
      "2. Convert km to miles\n",
      "3. Convert USD to INR\n",
      "4. Exit\n",
      "34.0 km = 21.13 miles\n",
      "\n",
      "Welcome!\n",
      "1. Convert cm to feet\n",
      "2. Convert km to miles\n",
      "3. Convert USD to INR\n",
      "4. Exit\n",
      "Thank you for using our service! 🙏\n"
     ]
    }
   ],
   "source": [
    "def menu_driven_converter():\n",
    "    while True:\n",
    "        print(\"\\nWelcome!\")\n",
    "        print(\"1. Convert cm to feet\")\n",
    "        print(\"2. Convert km to miles\")\n",
    "        print(\"3. Convert USD to INR\")\n",
    "        print(\"4. Exit\")\n",
    "\n",
    "        choice = int(input(\"\\nEnter your choice (1-4): \"))\n",
    "\n",
    "        if choice == 1:\n",
    "            num = float(input(\"Enter the value in cm: \"))\n",
    "            converted = num * 0.0328084\n",
    "            print(f\"{num} cm = {converted:.2f} feet\")\n",
    "\n",
    "        elif choice == 2:\n",
    "            num = float(input(\"Enter the value in km: \"))\n",
    "            converted = num * 0.621371\n",
    "            print(f\"{num} km = {converted:.2f} miles\")\n",
    "\n",
    "        elif choice == 3:\n",
    "            num = float(input(\"Enter the value in USD: \"))\n",
    "            converted = num * 88.07  # approximate current rate\n",
    "            print(f\"{num} USD = ₹{converted:.2f} INR\")\n",
    "\n",
    "        elif choice == 4:\n",
    "            print(\"Thank you for using our service! 🙏\")\n",
    "            break\n",
    "\n",
    "        else:\n",
    "            print(\"Invalid choice! Please try again.\")\n",
    "\n",
    "# Run the program\n",
    "menu_driven_converter()"
   ]
  },
  {
   "cell_type": "code",
   "execution_count": 56,
   "id": "1939ad8c",
   "metadata": {},
   "outputs": [
    {
     "name": "stdout",
     "output_type": "stream",
     "text": [
      "Number of Chickens: 1\n",
      "Number of Dogs: 4\n"
     ]
    }
   ],
   "source": [
    "#22 Write a program that will tell the number of dogs and chicken are there when the user will provide the value of total heads and legs.\n",
    "\n",
    "def number_of_dogs_chicken(heads,legs):\n",
    "\n",
    "    if legs%2 !=0 or legs < 2*heads or legs > 4*heads:\n",
    "\n",
    "        print(\"Enter a valid value\")\n",
    "\n",
    "        return\n",
    "    \n",
    "    '''\n",
    "    c + d = heads\n",
    "    2c + 4d = legs\n",
    "    \n",
    "    --> c = heads -d\n",
    "    --> 2(heads -d) + 4d = legs --> 2heads + 2d = legs\n",
    "    --> d = (legs - 2heads)/2\n",
    "    '''\n",
    "\n",
    "    dogs = (legs - 2 * heads) // 2\n",
    "    chickens = heads - dogs\n",
    "\n",
    "    print(f\"Number of Chickens: {chickens}\")\n",
    "    print(f\"Number of Dogs: {dogs}\")\n",
    "  \n",
    "    \n",
    "number_of_dogs_chicken(5,18)"
   ]
  },
  {
   "cell_type": "code",
   "execution_count": null,
   "id": "c2164559",
   "metadata": {},
   "outputs": [
    {
     "name": "stdout",
     "output_type": "stream",
     "text": [
      "numbers before swapping num1 = 16, num2 = 17\n",
      "numbers after swapping num1 = 17 and num2 = 16\n"
     ]
    }
   ],
   "source": [
    "#23 Write a program that will swap numbers.\n",
    "\n",
    "def enter_numbers_to_swap(num1, num2):\n",
    "\n",
    "    print(f\"numbers before swapping num1 = {num1}, num2 = {num2}\")\n",
    "\n",
    "    #temp = num1\n",
    "    #num1 = num2\n",
    "    #num2 = temp\n",
    "\n",
    "    num1, num2 = num2, num1 # this is by Pythonic way without using temp variable\n",
    "    print(f\"numbers after swapping num1 = {num1} and num2 = {num2}\" )\n",
    "\n",
    "\n",
    "\n",
    "enter_numbers_to_swap(16,17)"
   ]
  },
  {
   "cell_type": "code",
   "execution_count": null,
   "id": "dd79dda9",
   "metadata": {},
   "outputs": [
    {
     "name": "stdout",
     "output_type": "stream",
     "text": [
      "sum of numbers till 10 is 55\n"
     ]
    }
   ],
   "source": [
    "#24 Write a program to find the sum of first n numbers, where n will be provided by the user. \n",
    "# Eg if the user provides n=10 the output should be 55.\n",
    "\n",
    "def number_till_sum_is_needed(num):\n",
    "\n",
    "   \n",
    "    total_sum = num*(num+1)//2 # double intger for clean result\n",
    "\n",
    "    print(f\"sum of numbers till {num} is {total_sum}\")\n",
    "\n",
    "number_till_sum_is_needed(10)\n",
    "\n",
    "\n",
    "    "
   ]
  },
  {
   "cell_type": "code",
   "execution_count": null,
   "id": "cef82b63",
   "metadata": {},
   "outputs": [
    {
     "name": "stdout",
     "output_type": "stream",
     "text": [
      "Sum of first 10 numbers is 55\n"
     ]
    }
   ],
   "source": [
    "# same problem using loop\n",
    "\n",
    "def number_till_sum_is_needed(num):\n",
    "\n",
    "    total_sum =0\n",
    "    for i in range(1,num+1):\n",
    "\n",
    "        total_sum += i\n",
    "    print(f\"Sum of first {num} numbers is {total_sum}\")\n",
    "\n",
    "number_till_sum_is_needed(10)"
   ]
  },
  {
   "cell_type": "code",
   "execution_count": null,
   "id": "a82a72cd",
   "metadata": {},
   "outputs": [
    {
     "name": "stdout",
     "output_type": "stream",
     "text": [
      "12\n"
     ]
    }
   ],
   "source": [
    "#25 Write a program that can multiply 2 numbers provided by the user without using the * operator.\n",
    "\n",
    "def multiply(a, b):\n",
    "    result = 0\n",
    "\n",
    "    # handle negative numbers\n",
    "    negative = False\n",
    "    if a < 0 and b > 0 or a > 0 and b < 0:\n",
    "        negative = True\n",
    "\n",
    "    a, b = abs(a), abs(b)\n",
    "\n",
    "    # repeated addition\n",
    "    for i in range(b):\n",
    "        result += a\n",
    "\n",
    "    # apply sign if needed\n",
    "    if negative:\n",
    "        result = -result\n",
    "\n",
    "    return result\n",
    "\n",
    "print(multiply(4, 3))\n"
   ]
  },
  {
   "cell_type": "code",
   "execution_count": 99,
   "id": "901b0e70",
   "metadata": {},
   "outputs": [
    {
     "name": "stdout",
     "output_type": "stream",
     "text": [
      "the factorial of 10 is 3628800\n"
     ]
    }
   ],
   "source": [
    "#26 Write a program that can find the factorial of a given number provided by the user.\n",
    "\n",
    "def finding_factorial(num):\n",
    "\n",
    "    result = 1\n",
    "\n",
    "    for i in range(num,0,-1):\n",
    "\n",
    "        result = i * result\n",
    "\n",
    "    print(f\"the factorial of {num} is {result}\")\n",
    "\n",
    "finding_factorial(10)\n",
    "\n"
   ]
  },
  {
   "cell_type": "code",
   "execution_count": 100,
   "id": "79946696",
   "metadata": {},
   "outputs": [
    {
     "name": "stdout",
     "output_type": "stream",
     "text": [
      "3628800\n"
     ]
    }
   ],
   "source": [
    "import math\n",
    "print(math.factorial(10))"
   ]
  },
  {
   "cell_type": "code",
   "execution_count": 102,
   "id": "56be55b0",
   "metadata": {},
   "outputs": [
    {
     "name": "stdout",
     "output_type": "stream",
     "text": [
      "the first 25 odd numbers are: \n",
      "1\n",
      "3\n",
      "5\n",
      "7\n",
      "9\n",
      "11\n",
      "13\n",
      "15\n",
      "17\n",
      "19\n",
      "21\n",
      "23\n",
      "25\n",
      "27\n",
      "29\n",
      "31\n",
      "33\n",
      "35\n",
      "37\n",
      "39\n",
      "41\n",
      "43\n",
      "45\n",
      "47\n",
      "49\n"
     ]
    }
   ],
   "source": [
    "#27 Write a program to print the first 25 odd numbers.\n",
    "\n",
    "print(\"the first 25 odd numbers are: \")\n",
    "for i in range(1,50,2):\n",
    "\n",
    "    print(i)"
   ]
  },
  {
   "cell_type": "code",
   "execution_count": 109,
   "id": "029dd746",
   "metadata": {},
   "outputs": [
    {
     "name": "stdout",
     "output_type": "stream",
     "text": [
      "15 is not a prime number\n"
     ]
    }
   ],
   "source": [
    "#28  Write a program to print whether a given number is prime number or not.\n",
    "\n",
    "\n",
    "import math\n",
    "num = int(input(\"enter a number: \"))\n",
    "\n",
    "\n",
    "if num <= 1:\n",
    "    print(f\"{num} is not a prime number\")\n",
    "\n",
    "else:\n",
    "    is_prime = True\n",
    "    for i in range(2, int(math.sqrt(num)) + 1):\n",
    "        if num % i == 0:\n",
    "            is_prime = False\n",
    "            break\n",
    "\n",
    "    if is_prime:\n",
    "        print(f\"{num} is a prime number\")\n",
    "    else:\n",
    "        print(f\"{num} is not a prime number\")\n",
    "\n",
    "\n"
   ]
  },
  {
   "cell_type": "code",
   "execution_count": 112,
   "id": "2724182d",
   "metadata": {},
   "outputs": [
    {
     "name": "stdout",
     "output_type": "stream",
     "text": [
      "153 is an Armstrong number.\n",
      "370 is an Armstrong number.\n",
      "371 is an Armstrong number.\n",
      "407 is an Armstrong number.\n"
     ]
    }
   ],
   "source": [
    "#29 Print all the armstrong numbers in the range of 100 to 1000\n",
    "\n",
    "for number in range(100, 1001):\n",
    "    original = number\n",
    "    count = len(str(number))\n",
    "    total = 0\n",
    "\n",
    "    while number > 0:\n",
    "        digit = number % 10         # Get last digit\n",
    "        total += digit ** count      # Add square of digit\n",
    "        number //= 10   \n",
    "\n",
    "    if total == original:\n",
    "        print(f\"{original} is an Armstrong number.\")\n"
   ]
  },
  {
   "cell_type": "code",
   "execution_count": 119,
   "id": "35c06e11",
   "metadata": {},
   "outputs": [
    {
     "name": "stdout",
     "output_type": "stream",
     "text": [
      "population of the last 10 years are\n",
      "10th year - 10000\n",
      "9th year - 9091\n",
      "8th year - 8264\n",
      "7th year - 7513\n",
      "6th year - 6830\n",
      "5th year - 6209\n",
      "4th year - 5645\n",
      "3th year - 5132\n",
      "2th year - 4665\n",
      "1th year - 4241\n"
     ]
    }
   ],
   "source": [
    "#30 The current population of a town is 10000. The population of the town is increasing at the rate of 10% per year. \n",
    "# You have to write a program to find out the population at the end of each of the last 10 years. \n",
    "# For eg current population is 10000 so the output should be like this:\n",
    "#10th year - 10000\n",
    "#9th year - 9000\n",
    "#8th year - 8100 and so on\n",
    "\n",
    "\n",
    "current_population = 10000\n",
    "growth_rate = 0.1\n",
    "\n",
    "print(\"population of the last 10 years are\")\n",
    "\n",
    "for year in range(10,0,-1):\n",
    "\n",
    "    print(f\"{year}th year - {round(current_population)}\")\n",
    "    current_population = current_population / (1 + growth_rate)\n",
    "\n",
    " \n",
    "\n",
    "\n",
    "\n",
    "\n"
   ]
  }
 ],
 "metadata": {
  "kernelspec": {
   "display_name": "Python 3",
   "language": "python",
   "name": "python3"
  },
  "language_info": {
   "codemirror_mode": {
    "name": "ipython",
    "version": 3
   },
   "file_extension": ".py",
   "mimetype": "text/x-python",
   "name": "python",
   "nbconvert_exporter": "python",
   "pygments_lexer": "ipython3",
   "version": "3.14.0"
  }
 },
 "nbformat": 4,
 "nbformat_minor": 5
}
