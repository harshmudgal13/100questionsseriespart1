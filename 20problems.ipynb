{
 "cells": [
  {
   "cell_type": "code",
   "execution_count": null,
   "id": "cb96c612",
   "metadata": {},
   "outputs": [],
   "source": [
    "#31 Write a program to print all the unique combinations of 1,2,3 and 4\n",
    "\n",
    "'''\n",
    "1234. \n",
    "1243\n",
    "1324\n",
    "1342\n",
    "1423\n",
    "1432\n",
    "'''\n",
    "def unique_combinations(1,2,3,4):\n",
    "\n",
    "    while unique_combinations[1]"
   ]
  },
  {
   "cell_type": "code",
   "execution_count": null,
   "id": "5fece541",
   "metadata": {},
   "outputs": [
    {
     "name": "stdout",
     "output_type": "stream",
     "text": [
      "1 2 3 4\n",
      "1 2 4 3\n",
      "1 3 2 4\n",
      "1 3 4 2\n",
      "1 4 2 3\n",
      "1 4 3 2\n",
      "2 1 3 4\n",
      "2 1 4 3\n",
      "2 3 1 4\n",
      "2 3 4 1\n",
      "2 4 1 3\n",
      "2 4 3 1\n",
      "3 1 2 4\n",
      "3 1 4 2\n",
      "3 2 1 4\n",
      "3 2 4 1\n",
      "3 4 1 2\n",
      "3 4 2 1\n",
      "4 1 2 3\n",
      "4 1 3 2\n",
      "4 2 1 3\n",
      "4 2 3 1\n",
      "4 3 1 2\n",
      "4 3 2 1\n"
     ]
    },
    {
     "data": {
      "text/plain": [
       "'\\n123\\n\\n'"
      ]
     },
     "execution_count": 8,
     "metadata": {},
     "output_type": "execute_result"
    }
   ],
   "source": [
    "for i in range(1,5):\n",
    "    for j in range(1,5):\n",
    "        for k in range(1,5):\n",
    "            for l in range(1,5):\n",
    "\n",
    "                if i != j and j != k and k != l and i !=k and j != l and i != l: \n",
    "\n",
    "                    print(i,j,k,l)"
   ]
  },
  {
   "cell_type": "code",
   "execution_count": null,
   "id": "b48f9eff",
   "metadata": {},
   "outputs": [
    {
     "name": "stdout",
     "output_type": "stream",
     "text": [
      "(1, 2, 3, 4)\n",
      "(1, 2, 4, 3)\n",
      "(1, 3, 2, 4)\n",
      "(1, 3, 4, 2)\n",
      "(1, 4, 2, 3)\n",
      "(1, 4, 3, 2)\n",
      "(2, 1, 3, 4)\n",
      "(2, 1, 4, 3)\n",
      "(2, 3, 1, 4)\n",
      "(2, 3, 4, 1)\n",
      "(2, 4, 1, 3)\n",
      "(2, 4, 3, 1)\n",
      "(3, 1, 2, 4)\n",
      "(3, 1, 4, 2)\n",
      "(3, 2, 1, 4)\n",
      "(3, 2, 4, 1)\n",
      "(3, 4, 1, 2)\n",
      "(3, 4, 2, 1)\n",
      "(4, 1, 2, 3)\n",
      "(4, 1, 3, 2)\n",
      "(4, 2, 1, 3)\n",
      "(4, 2, 3, 1)\n",
      "(4, 3, 1, 2)\n",
      "(4, 3, 2, 1)\n"
     ]
    }
   ],
   "source": [
    "# using itertloos\n",
    "\n",
    "import itertools\n",
    "\n",
    "digits = [1, 2, 3, 4]\n",
    "\n",
    "for combo in itertools.permutations(digits, 4):  # 4 means length of each combination\n",
    "    print(combo)\n",
    "\n",
    "\n",
    "'''\n",
    "nPr = n!/(n-r)!\n",
    "'''"
   ]
  },
  {
   "cell_type": "code",
   "execution_count": 17,
   "id": "12bb2444",
   "metadata": {},
   "outputs": [
    {
     "name": "stdout",
     "output_type": "stream",
     "text": [
      "total unique combinations of 4P4 are 24\n",
      "1 2 3 4\n",
      "1 2 4 3\n",
      "1 3 2 4\n",
      "1 3 4 2\n",
      "1 4 2 3\n",
      "1 4 3 2\n",
      "2 1 3 4\n",
      "2 1 4 3\n",
      "2 3 1 4\n",
      "2 3 4 1\n",
      "2 4 1 3\n",
      "2 4 3 1\n",
      "3 1 2 4\n",
      "3 1 4 2\n",
      "3 2 1 4\n",
      "3 2 4 1\n",
      "3 4 1 2\n",
      "3 4 2 1\n",
      "4 1 2 3\n",
      "4 1 3 2\n",
      "4 2 1 3\n",
      "4 2 3 1\n",
      "4 3 1 2\n",
      "4 3 2 1\n",
      "\n",
      "Total combinations generated: 24\n"
     ]
    }
   ],
   "source": [
    "#using math\n",
    "\n",
    "import math\n",
    "\n",
    "digits = [1,2,3,4]\n",
    "n = len(digits)\n",
    "r = 4\n",
    "\n",
    "total_permutations = math.factorial(n) // math.factorial(n-r)\n",
    "\n",
    "print(f\"total unique combinations of 4P4 are {total_permutations}\")\n",
    "\n",
    "count = 0\n",
    "\n",
    "for i in digits:\n",
    "    for j in digits:\n",
    "        for k in digits:\n",
    "            for l in digits:\n",
    "                if len({i, j, k, l}) == 4:  # ensures all digits are unique\n",
    "                    count += 1\n",
    "                    print(i, j, k, l)\n",
    "\n",
    "print(f\"\\nTotal combinations generated: {count}\")"
   ]
  },
  {
   "cell_type": "code",
   "execution_count": null,
   "id": "518baaeb",
   "metadata": {},
   "outputs": [
    {
     "data": {
      "text/plain": [
       "4"
      ]
     },
     "execution_count": 22,
     "metadata": {},
     "output_type": "execute_result"
    }
   ],
   "source": [
    "#32 User will provide 2 numbers you have to find the HCF of those 2 numbers.\n",
    "\n",
    "'''\n",
    "hcf of 4 and 8\n",
    "the highest number which completely divides the both \n",
    "i.e 4 here\n",
    "'''\n",
    "\n",
    "\n",
    "def finding_hcf(num1, num2):\n",
    "\n",
    "    if num1 > num2:\n",
    "        smaller = num2\n",
    "    else:\n",
    "        smaller = num1\n",
    "\n",
    "    for i in range(1, smaller +1):\n",
    "        if (num1 % i == 0) and (num2 % i ==0):\n",
    "            hcf = i\n",
    "\n",
    "    return hcf\n",
    "\n",
    "finding_hcf(4,8)"
   ]
  },
  {
   "cell_type": "code",
   "execution_count": null,
   "id": "5f914147",
   "metadata": {},
   "outputs": [
    {
     "name": "stdout",
     "output_type": "stream",
     "text": [
      "lcm of 12 and 18 is 36\n"
     ]
    }
   ],
   "source": [
    "#33 User will provide 2 numbers you have to find the by LCM of those 2 numbers\n",
    "\n",
    "'''\n",
    "lcf of 12, 18\n",
    "prime factorization of 12 = 2.2.3\n",
    "prime factorization of 18 = 2.3.3\n",
    "\n",
    "lcm = 2^2 * 3^3 == 36\n",
    "'''\n",
    "\n",
    "def finding_lcm(num1, num2):\n",
    " \n",
    "    a,b= num1, num2\n",
    "    lcm = 1\n",
    "    divisior = 2\n",
    "\n",
    "    while a>1 or b>1:\n",
    "\n",
    "        if a % divisior ==0 or b % divisior == 0:\n",
    "            lcm *= divisior\n",
    "\n",
    "            if a % divisior == 0:\n",
    "                a //= divisior\n",
    "\n",
    "            if b % divisior == 0:\n",
    "                b //= divisior\n",
    "\n",
    "        else:\n",
    "            divisior += 1\n",
    "\n",
    "    print(f\"lcm of {num1} and {num2} is {lcm}\")\n",
    "\n",
    "finding_lcm(12,18)\n"
   ]
  },
  {
   "cell_type": "code",
   "execution_count": 60,
   "id": "7215403a",
   "metadata": {},
   "outputs": [
    {
     "data": {
      "text/plain": [
       "36"
      ]
     },
     "execution_count": 60,
     "metadata": {},
     "output_type": "execute_result"
    }
   ],
   "source": [
    "# using GCD method \n",
    "\n",
    "'''\n",
    "lcm of 12, 18\n",
    "\n",
    "gcd --> 18/12 --> 1 and remainder is 6\n",
    "--> 12/6 --> 2 and remainder is 0\n",
    "\n",
    "last non zero remainder is 6 so gcd(12,18) is 6\n",
    "\n",
    "lcm(a,b) = a*b /gcd(a,b)\n",
    "\n",
    "--> 12*18 / 6 = 36\n",
    "\n",
    "'''\n",
    "\n",
    "''' \n",
    "   a,b = num1, num2\n",
    "\n",
    "    gcd = 1\n",
    "    remainder = 1\n",
    "\n",
    "\n",
    "    while a > b or b > a:\n",
    "\n",
    "        if a%b != remainder or b % a != remainder:\n",
    "        '''\n",
    "\n",
    "def finding_lcm(num1, num2):\n",
    "\n",
    "    \n",
    "    \n",
    "    a, b = num1, num2\n",
    "    while b != 0:\n",
    "\n",
    "        a, b = b, a%b\n",
    "\n",
    "    gcd = a\n",
    "    lcm = (num1 * num2) // gcd\n",
    "    return lcm\n",
    "\n",
    "finding_lcm(12,18)\n",
    "\n",
    "             \n",
    "\n"
   ]
  },
  {
   "cell_type": "code",
   "execution_count": null,
   "id": "565a45d4",
   "metadata": {},
   "outputs": [
    {
     "name": "stdout",
     "output_type": "stream",
     "text": [
      "2\n",
      "3\n",
      "5\n",
      "7\n",
      "11\n",
      "13\n",
      "17\n",
      "19\n",
      "23\n",
      "29\n",
      "31\n",
      "37\n",
      "41\n",
      "43\n",
      "47\n",
      "53\n",
      "59\n",
      "61\n",
      "67\n",
      "71\n",
      "73\n",
      "79\n",
      "83\n",
      "89\n",
      "97\n",
      "101\n"
     ]
    }
   ],
   "source": [
    "#34 Print first 25 prime numbers.\n",
    "\n",
    "'''\n",
    "prime number: divide by itself and 1\n",
    "\n",
    "'''\n",
    "\n",
    "\n",
    "count = 0\n",
    "num =2 \n",
    "\n",
    "while count<=25:\n",
    "\n",
    "    is_prime = True\n",
    "\n",
    "    for i in range(2,num):\n",
    "\n",
    "        if num % i == 0:\n",
    "\n",
    "            is_prime = False\n",
    "            break\n",
    "\n",
    "    if is_prime:\n",
    "        print(num)\n",
    "        count += 1\n",
    "\n",
    "    num += 1     "
   ]
  },
  {
   "cell_type": "code",
   "execution_count": 85,
   "id": "6968fcda",
   "metadata": {},
   "outputs": [
    {
     "name": "stdout",
     "output_type": "stream",
     "text": [
      "0 1 1 2 3 5 8 13 21 34 55 89 144 233 377 610 987 1597 2584 4181 "
     ]
    }
   ],
   "source": [
    "#35 Print the first 20 numbers of a Fibonacci series\n",
    "\n",
    "'''\n",
    "0 se start\n",
    "--> 0,1,1,2,3,5..\n",
    "addition of previous 1\n",
    "'''\n",
    "\n",
    "'''\n",
    "sum =0 \n",
    "num = 0\n",
    "count = 0\n",
    "\n",
    "while count< 20:\n",
    "\n",
    "    for i in range(0,num+1):\n",
    "\n",
    "        sum = sum + i+1\n",
    "        print(sum)\n",
    "        count += 1\n",
    "\n",
    "print(f\"fibonacci series of first 20 numbers is{sum}\")\n",
    "\n",
    "'''\n",
    "\n",
    "a,b = 0,1\n",
    "count = 0\n",
    "\n",
    "while count<20:\n",
    "\n",
    "    print(a, end=\" \")\n",
    "\n",
    "    c = a+b\n",
    "    a = b\n",
    "    b = c\n",
    "\n",
    "    count += 1\n",
    "\n"
   ]
  },
  {
   "cell_type": "code",
   "execution_count": 97,
   "id": "cd5f14cb",
   "metadata": {},
   "outputs": [
    {
     "data": {
      "text/plain": [
       "2100.000000000002"
      ]
     },
     "execution_count": 97,
     "metadata": {},
     "output_type": "execute_result"
    }
   ],
   "source": [
    "#36 Write a program to find the compound interest \n",
    "\n",
    "'''\n",
    "compound interest\n",
    "\n",
    "Principal (P) = $10,000\n",
    "Annual interest rate (r) = 10% or 0.10\n",
    "Number of times compounded per year (n) = (1) (annually)\n",
    "no. of years (t) = 2\n",
    "\n",
    "\n",
    "compound interest (A) = P (1 + r/n)^nt\n",
    "'''\n",
    "\n",
    "def finding_CI(Principal, Annual_IR, Annually, years):\n",
    "\n",
    "    Amount =  Principal * (1 + Annual_IR/Annually)**(Annually*years)\n",
    "\n",
    "    CI = Amount - Principal\n",
    "    return CI\n",
    "\n",
    "finding_CI(10000,0.1, 1, 2)"
   ]
  },
  {
   "cell_type": "code",
   "execution_count": 112,
   "id": "a7d114fd",
   "metadata": {},
   "outputs": [
    {
     "name": "stdout",
     "output_type": "stream",
     "text": [
      "5 + 55 + 555\n"
     ]
    }
   ],
   "source": [
    "#37 Write a Python program that accepts an integer (n) and computes the value of n+nn+nnn.\n",
    "\n",
    "'''\n",
    "n + n*n + n*n*n\n",
    "5 + 5*5 + 5*5*5\n",
    "'''\n",
    "def finding_value(n):\n",
    "\n",
    "    n = str(n)\n",
    "\n",
    "    value1 = n\n",
    "    value2 = (n*2)\n",
    "    value3 = (n*3)\n",
    "\n",
    "    print(f\"{value1} + {value2} + {value3}\")\n",
    "\n",
    "finding_value(5)"
   ]
  },
  {
   "cell_type": "code",
   "execution_count": null,
   "id": "45654f5c",
   "metadata": {},
   "outputs": [
    {
     "name": "stdout",
     "output_type": "stream",
     "text": [
      "total digits in num are 4\n"
     ]
    }
   ],
   "source": [
    "#38 Take a number from the user and find the number of digits in it. \n",
    "\n",
    "def finding_digits(num):\n",
    "\n",
    "    count = 0\n",
    "\n",
    "    while num>0:\n",
    "\n",
    "        num = num // 10\n",
    "        \n",
    "        count = count + 1\n",
    "\n",
    "    print(f\"total digits in num are {count}\")\n",
    "\n",
    "finding_digits(1234)"
   ]
  },
  {
   "cell_type": "code",
   "execution_count": null,
   "id": "990df9d7",
   "metadata": {},
   "outputs": [
    {
     "name": "stdout",
     "output_type": "stream",
     "text": [
      "1\n",
      "2\n",
      "4\n",
      "5\n",
      "8\n",
      "10\n",
      "20\n",
      "40\n"
     ]
    }
   ],
   "source": [
    "#39 Print all factors of a given number provided by the user.\n",
    "          \n",
    "'''\n",
    "40 ke factors\n",
    "\n",
    "40/1,40/2, 40/4, 40/5.....\n",
    "\n",
    "num%\n",
    "'''\n",
    "def finding_factors(num):\n",
    "\n",
    "    count =1\n",
    "\n",
    "    while count <=num:\n",
    "\n",
    "        if num % count == 0:\n",
    "\n",
    "            print(count)\n",
    "\n",
    "        count += 1\n",
    "\n",
    "finding_factors(40)"
   ]
  },
  {
   "cell_type": "code",
   "execution_count": 141,
   "id": "2b54b5ad",
   "metadata": {},
   "outputs": [
    {
     "name": "stdout",
     "output_type": "stream",
     "text": [
      "the number after reversing becomes 4321\n"
     ]
    }
   ],
   "source": [
    "#40 Find the reverse of a number provided by the user(any number of digit) \n",
    "\n",
    "def reverse_of_number(num):\n",
    "\n",
    "    reverse = 0\n",
    "\n",
    "    while num>0:\n",
    "\n",
    "        digit = num%10\n",
    "        reverse = reverse * 10 + digit\n",
    "        num = num//10\n",
    "\n",
    "    print(f\"the number after reversing becomes {reverse}\")\n",
    "\n",
    "reverse_of_number(1234)\n"
   ]
  },
  {
   "cell_type": "code",
   "execution_count": 156,
   "id": "20895362",
   "metadata": {},
   "outputs": [
    {
     "name": "stdout",
     "output_type": "stream",
     "text": [
      "*\n",
      "**\n",
      "***\n",
      "****\n",
      "*****\n"
     ]
    }
   ],
   "source": [
    "#41 Write a program to print the following pattern\n",
    "'''\n",
    "*\n",
    "**\n",
    "***\n",
    "****\n",
    "*****\n",
    "'''\n",
    "\n",
    "for i in range(1,6):\n",
    " \n",
    "    for j in range(1,i+1):\n",
    "\n",
    "        print('*', end='') \n",
    "    print()"
   ]
  },
  {
   "cell_type": "code",
   "execution_count": null,
   "id": "36c579f1",
   "metadata": {},
   "outputs": [
    {
     "name": "stdout",
     "output_type": "stream",
     "text": [
      "*\n",
      "**\n",
      "***\n",
      "**\n",
      "*\n"
     ]
    }
   ],
   "source": [
    "#42 Write a program to print the following pattern\n",
    "'''\n",
    "*\n",
    "**\n",
    "***\n",
    "**\n",
    "*\n",
    "'''\n",
    "\n",
    "for i in range(1,4): # no. of rows\n",
    "    \n",
    "    for j in range(1,i+1): # no. of stars in each loop\n",
    "        print(end='*')\n",
    "    print()\n",
    "\n",
    "for i in range(2,0,-1):\n",
    "\n",
    "    for j in range(1,i+1):\n",
    "\n",
    "        print(end='*')\n",
    "\n",
    "    print()\n"
   ]
  },
  {
   "cell_type": "code",
   "execution_count": null,
   "id": "c5465abf",
   "metadata": {},
   "outputs": [
    {
     "name": "stdout",
     "output_type": "stream",
     "text": [
      "        * \n",
      "      * * * \n",
      "    * * * * * \n",
      "  * * * * * * * \n",
      "* * * * * * * * * \n"
     ]
    }
   ],
   "source": [
    "#43 Write  a program to print the following pattern\n",
    "'''\n",
    "        *.           1\n",
    "      * * *          3\n",
    "    * * * * *        5\n",
    "   * * * * * * *     7\n",
    " * * * * * * * * *   9\n",
    "\n",
    "for i in range(6,0,-1):  # no. of rows\n",
    "\n",
    "    for j in range(i,0,-1):  # no.. of spaces in each row\n",
    "\n",
    "        print(' ', end=' ')\n",
    "\n",
    "    for i in range(1,6):\n",
    "\n",
    "\n",
    "        print('*', end=' ')\n",
    "\n",
    "    print()\n",
    "'''\n",
    "\n",
    "for i in range(1,6):\n",
    "\n",
    "    for j in range(5 - i):\n",
    "\n",
    "        print(' ', end=' ')\n",
    "\n",
    "    for k in range(2*i -1):\n",
    "\n",
    "        print('*', end=' ')\n",
    "    print()"
   ]
  },
  {
   "cell_type": "code",
   "execution_count": 249,
   "id": "39fc29c8",
   "metadata": {},
   "outputs": [
    {
     "name": "stdout",
     "output_type": "stream",
     "text": [
      "1 \n",
      "1 2 1 \n",
      "1 2 3 2 1 \n",
      "1 2 3 4 3 2 1 \n",
      "1 2 3 4 5 4 3 2 1 \n"
     ]
    }
   ],
   "source": [
    "#44 Write a program to print the following pattern\n",
    "'''\n",
    "1\n",
    "1 2 1\n",
    "1 2 3 2 1\n",
    "1 2 3 4 3 2 1\n",
    "1 2 3 4 5 4 3 2 1\n",
    "'''\n",
    "\n",
    "for i in range(1,6): # no. of rows\n",
    "\n",
    "    for j in range(1,i+1): # numbers to be in the rows down the line\n",
    "\n",
    "        print(j, end=' ')\n",
    "\n",
    "    for k in range(i-1,0,-1): # \n",
    "\n",
    "        print(k, end=' ')\n",
    "\n",
    "    print()\n"
   ]
  },
  {
   "cell_type": "code",
   "execution_count": 286,
   "id": "f8925da1",
   "metadata": {},
   "outputs": [
    {
     "name": "stdout",
     "output_type": "stream",
     "text": [
      "1 \n",
      "2 3 \n",
      "4 5 6 \n",
      "7 8 9 10 \n"
     ]
    }
   ],
   "source": [
    "#45 Write a program to print the following pattern\n",
    "'''\n",
    "1\n",
    "2 3\n",
    "4 5 6\n",
    "7 8 9 10\n",
    "'''\n",
    "num =1\n",
    "for i in range(1,5): # no. of rows\n",
    "   \n",
    "    for j in range(i): # items in the rows\n",
    "\n",
    "        print(num, end=' ')\n",
    "        num += 1\n",
    "\n",
    "    print()\n",
    "\n"
   ]
  },
  {
   "cell_type": "code",
   "execution_count": 295,
   "id": "865d6337",
   "metadata": {},
   "outputs": [
    {
     "name": "stdout",
     "output_type": "stream",
     "text": [
      "the sum of series till 5 terms is 2.708333333333333\n"
     ]
    }
   ],
   "source": [
    "#46 Write a program to calculate the sum of the following series till the nth term\n",
    "#1/1! + 2/2! + 3/3! + 4/4! +…….+ n/n!\n",
    "#n will be provided by the user\n",
    "\n",
    "'''\n",
    "import math\n",
    "def calculating_sum(num):\n",
    "\n",
    "    sum = 0\n",
    "    nth_term = 0\n",
    "    for i in range(0,num+1):\n",
    "\n",
    "        sum += i+1\n",
    "\n",
    "        nth_term = sum/(math.factorial(sum))\n",
    "        nth_term += 1\n",
    "\n",
    "        print(f\"the sum of the following series till {num} is {nth_term}\")\n",
    "\n",
    "\n",
    "calculating_sum(5)\n",
    "'''\n",
    "\n",
    "import math\n",
    "\n",
    "def calculating_sum(n):\n",
    "\n",
    "    total = 0\n",
    "\n",
    "    for i in range(1, n+1):\n",
    "\n",
    "        total += i/(math.factorial(i))\n",
    "\n",
    "    print(f\"the sum of series till {n} terms is {total}\")\n",
    "\n",
    "calculating_sum(5)"
   ]
  },
  {
   "cell_type": "code",
   "execution_count": 304,
   "id": "bcbe5532",
   "metadata": {},
   "outputs": [
    {
     "name": "stdout",
     "output_type": "stream",
     "text": [
      "the sum of the series till 5 term is 840.42\n"
     ]
    }
   ],
   "source": [
    "#47 Write a Python Program to Find the Sum of the Series till the nth term: \n",
    "# 1^1/1 + x^2/2 + x^3/3 + … x^n/n\n",
    "# n will be provided by the user\n",
    "\n",
    "'''\n",
    "1 + x^2/2 +... x^n/n \n",
    "\n",
    "total = 0\n",
    "'''\n",
    "\n",
    "\n",
    "\n",
    "def finding_sum(x,n):\n",
    "\n",
    "    total = 0\n",
    "\n",
    "    for i in range(1,n+1):\n",
    "\n",
    "        total += x**i/ i\n",
    "\n",
    "    print(f\"the sum of the series till {n} term is {total:.2f}\")\n",
    "\n",
    "finding_sum(5,5)\n",
    "\n"
   ]
  },
  {
   "cell_type": "code",
   "execution_count": 309,
   "id": "73014e99",
   "metadata": {},
   "outputs": [
    {
     "name": "stdout",
     "output_type": "stream",
     "text": [
      "the sum of the following series is 1.74\n"
     ]
    }
   ],
   "source": [
    "#48 The natural logarithm can be approximated by the following series.\n",
    "\n",
    "# (x-1)/x + 1/2*((x-1)/x)^2 + ... + 1/2((x-1)/x)^n\n",
    "\n",
    "def calculating_sum(x,n):\n",
    "\n",
    "    total = 0\n",
    "\n",
    "    for i in range(1, n+1):\n",
    "\n",
    "        if i == 1:\n",
    "        \n",
    "            total += ((x-1)/x) ** i\n",
    "        else:\n",
    "            total += 1/2 * ((x-1)/x) ** i\n",
    "\n",
    "    print(f\"the sum of the following series is {total:.2f}\")\n",
    "\n",
    "calculating_sum(5,5)"
   ]
  },
  {
   "cell_type": "code",
   "execution_count": 340,
   "id": "563d8098",
   "metadata": {},
   "outputs": [
    {
     "name": "stdout",
     "output_type": "stream",
     "text": [
      "The total sum is 15\n",
      "The average is 3.0\n"
     ]
    }
   ],
   "source": [
    "#49 Write a program that keeps on accepting a number from the user until the user enters Zero. \n",
    "# Display the sum and average of all the numbers.\n",
    "\n",
    "'''\n",
    "1 +2 +3 +4 .....till user enters 0.\n",
    "\n",
    "sum = 1+2+3+4.....\n",
    "\n",
    "average = sum/count\n",
    "\n",
    "def calculating_sum_average(n):\n",
    "\n",
    "    count =0\n",
    "    sum =0\n",
    "    average = 0\n",
    "\n",
    "    while n !=0:\n",
    "\n",
    "        num = n\n",
    "        sum += num\n",
    "        count += 1\n",
    "\n",
    "    if n == 0:\n",
    "\n",
    "        break\n",
    "\n",
    "\n",
    "        print(f\"the total sum is {sum}\")\n",
    "\n",
    "    average = sum/count\n",
    "\n",
    "    print(f\"the average of the following numbers is {average}\")\n",
    "\n",
    "    '''\n",
    "        \n",
    "def calculating_sum_average():\n",
    "\n",
    "    count = 0\n",
    "    total = 0\n",
    "\n",
    "    while True:\n",
    "\n",
    "        n = int(input(\"enter a number from 0 to stop: \"))\n",
    "\n",
    "        if n == 0:\n",
    "            break\n",
    "        \n",
    "        count += 1\n",
    "        total += n\n",
    "\n",
    "    if count > 0:\n",
    "\n",
    "        average = total/count\n",
    "        print(f\"The total sum is {total}\")\n",
    "        print(f\"The average is {average}\")\n",
    "\n",
    "    else:\n",
    "        print(\"No numbers entered.\")\n",
    "\n",
    "calculating_sum_average()\n"
   ]
  },
  {
   "cell_type": "code",
   "execution_count": null,
   "id": "fd478b6e",
   "metadata": {},
   "outputs": [
    {
     "name": "stdout",
     "output_type": "stream",
     "text": [
      "Simplified form of 5/15 is 1/3\n"
     ]
    }
   ],
   "source": [
    "#50 Write a program that accepts 2 numbers from the user a numerator and a denominator and then simplifies it\n",
    "# Eg if the num = 5, den = 15 the answer should be ⅓\n",
    "# Eg if the num = 6, den = 9 the answer should be ⅔\n",
    "\n",
    "\n",
    "'''\n",
    "def calculating_value(numerator, denominator):\n",
    "\n",
    "    a,b = numerator, denominator\n",
    "\n",
    "    if a == numerator and b == denominator:\n",
    "\n",
    "        value = a/b\n",
    "        print(value)\n",
    "\n",
    "calculating_value(5,15)\n",
    "'''\n",
    "\n",
    "import math\n",
    "\n",
    "def calculating_value(numerator, denominator):\n",
    "\n",
    "    # Use math.gcd() to reduce fractions to their simplest form instead of using division directly.\n",
    "\n",
    "    gcd = math.gcd(numerator, denominator)   \n",
    "    simplified_num = numerator // gcd\n",
    "    simplified_den = denominator // gcd\n",
    "\n",
    "    print(f\"Simplified form of {numerator}/{denominator} is {simplified_num}/{simplified_den}\")\n",
    "\n",
    "calculating_value(5,15)"
   ]
  }
 ],
 "metadata": {
  "kernelspec": {
   "display_name": "Python 3",
   "language": "python",
   "name": "python3"
  },
  "language_info": {
   "codemirror_mode": {
    "name": "ipython",
    "version": 3
   },
   "file_extension": ".py",
   "mimetype": "text/x-python",
   "name": "python",
   "nbconvert_exporter": "python",
   "pygments_lexer": "ipython3",
   "version": "3.14.0"
  }
 },
 "nbformat": 4,
 "nbformat_minor": 5
}
