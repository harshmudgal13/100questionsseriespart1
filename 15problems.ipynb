{
 "cells": [
  {
   "cell_type": "code",
   "execution_count": null,
   "id": "dbb070a3",
   "metadata": {},
   "outputs": [],
   "source": [
    "#3 User will input (2numbers).Write a program to swap the numbers.\n",
    "\n",
    "def numbers_to_swap(num1, num2):\n",
    "\n",
    "    num1,num2 = num2,num1\n",
    "    return num1,num2\n",
    "numbers_to_swap(12,24)"
   ]
  },
  {
   "cell_type": "code",
   "execution_count": null,
   "id": "f3aae788",
   "metadata": {},
   "outputs": [
    {
     "name": "stdout",
     "output_type": "stream",
     "text": [
      "None\n"
     ]
    }
   ],
   "source": [
    "#4 Write a program that will give you the sum of 3 digits.\n",
    "\n",
    "def sum_of_digits(num):\n",
    "    sum = 0\n",
    "    while num > 0:\n",
    "        sum = sum + num % 10\n",
    "        num = num // 10\n",
    "    return sum\n",
    "\n",
    "print(sum_of_digits(124))"
   ]
  },
  {
   "cell_type": "code",
   "execution_count": 42,
   "id": "51d38dce",
   "metadata": {},
   "outputs": [
    {
     "name": "stdout",
     "output_type": "stream",
     "text": [
      "4321 is the reverse of 1234\n",
      "Reverse Check (Palindrome): False (The number is NOT a palindrome).\n"
     ]
    },
    {
     "data": {
      "text/plain": [
       "(4321, False)"
      ]
     },
     "execution_count": 42,
     "metadata": {},
     "output_type": "execute_result"
    }
   ],
   "source": [
    "#5 Write a program that will reverse a four digit number.Also it checks whether the reverse is true.\n",
    "\n",
    "def four_digit_number_checker(num_str):\n",
    "\n",
    "    reversed_str = num_str[::-1]\n",
    "    reversed_num = int(reversed_str)\n",
    "\n",
    "    is_palindrome = reversed_num == num_str\n",
    "\n",
    "    print(f\"{reversed_num} is the reverse of {num_str}\")\n",
    "   \n",
    "\n",
    "    if is_palindrome:\n",
    "        print(\"Reverse Check (Palindrome): True (The number reads the same backward as forward).\")\n",
    "    else:\n",
    "        print(\"Reverse Check (Palindrome): False (The number is NOT a palindrome).\")\n",
    "\n",
    "    return reversed_num, is_palindrome\n",
    "\n",
    "four_digit_number_checker(\"1234\")"
   ]
  },
  {
   "cell_type": "code",
   "execution_count": null,
   "id": "43720022",
   "metadata": {},
   "outputs": [
    {
     "name": "stdout",
     "output_type": "stream",
     "text": [
      "8 is even\n"
     ]
    }
   ],
   "source": [
    "#6 Write a program that will tell whether the number entered by the user is odd or even.\n",
    "\n",
    "def number_odd_even(num):\n",
    "\n",
    "    if num % 2 == 0:\n",
    "\n",
    "        print(f\"{num} is even\")\n",
    "\n",
    "    else:\n",
    "        print(f\"{num} is odd\")\n",
    "\n",
    "number_odd_even(8)"
   ]
  },
  {
   "cell_type": "code",
   "execution_count": 66,
   "id": "992ba2b7",
   "metadata": {},
   "outputs": [
    {
     "name": "stdout",
     "output_type": "stream",
     "text": [
      "2024 is a normal year\n",
      "2023 is a normal year\n"
     ]
    }
   ],
   "source": [
    "# 7 Write a program that will tell whether the given year is a leap year or not.\n",
    "\n",
    "\n",
    "\n",
    "\n",
    "leap_year = 0\n",
    "\n",
    "year2000 = leap_year\n",
    "\n",
    "def leap_year_checker(year):\n",
    "\n",
    "    if leap_year == year[year2000::4] :\n",
    "\n",
    "        print (f\"{year} is a leap year\")\n",
    "\n",
    "    else:\n",
    "        print(f\"{year} is a normal year\")\n",
    "\n",
    "leap_year_checker(\"2024\")\n",
    "leap_year_checker(\"2023\")"
   ]
  },
  {
   "cell_type": "code",
   "execution_count": 67,
   "id": "b4e595a8",
   "metadata": {},
   "outputs": [
    {
     "name": "stdout",
     "output_type": "stream",
     "text": [
      "2024 is a leap year\n",
      "2023 is a normal year\n"
     ]
    }
   ],
   "source": [
    "def leap_year_checker(year):\n",
    "    year = int(year)  # Convert string input to integer\n",
    "    if (year % 400 == 0) or (year % 4 == 0 and year % 100 != 0):\n",
    "        print(f\"{year} is a leap year\")\n",
    "    else:\n",
    "        print(f\"{year} is a normal year\")\n",
    "\n",
    "leap_year_checker(\"2024\")\n",
    "leap_year_checker(\"2023\")"
   ]
  },
  {
   "cell_type": "code",
   "execution_count": 71,
   "id": "3d0b136a",
   "metadata": {},
   "outputs": [
    {
     "name": "stderr",
     "output_type": "stream",
     "text": [
      "<>:4: SyntaxWarning: \"\\(\" is an invalid escape sequence. Such sequences will not work in the future. Did you mean \"\\\\(\"? A raw string is also an option.\n",
      "<>:4: SyntaxWarning: \"\\(\" is an invalid escape sequence. Such sequences will not work in the future. Did you mean \"\\\\(\"? A raw string is also an option.\n",
      "/var/folders/_7/rsq75pk94x1fht62xsqgjrdm0000gn/T/ipykernel_16143/4178791312.py:4: SyntaxWarning: \"\\(\" is an invalid escape sequence. Such sequences will not work in the future. Did you mean \"\\\\(\"? A raw string is also an option.\n",
      "  Find the difference between the x-coordinates \\((x_{2}-x_{1})\\) and square it.\n"
     ]
    },
    {
     "name": "stdout",
     "output_type": "stream",
     "text": [
      "The Euclidean distance between (1, 3) and (2, 4) is 1.4142135623730951\n"
     ]
    }
   ],
   "source": [
    "#8 Write a program to find the euclidean distance between two coordinates.\n",
    "\n",
    "'''\n",
    "Find the difference between the x-coordinates \\((x_{2}-x_{1})\\) and square it.\n",
    "Find the difference between the y-coordinates \\((y_{2}-y_{1})\\) and square it.\n",
    "Add the two squared differences together.\n",
    "Take the square root of the sum.\n",
    "'''\n",
    "\n",
    "\n",
    "# (d=\\sqrt{(x_{2}-x_{1})^{2}+(y_{2}-y_{1})^{2}}\\)\n",
    "\n",
    "import math\n",
    "\n",
    "sub1 = 0\n",
    "sub2 = 0\n",
    "sum = 0\n",
    "x1 = int(input(\"enter the values of first coordinate (x1): \"))\n",
    "x2 = int(input(\"enter the values of second coordinate (y1): \"))\n",
    "y1= int(input(\"enter the values of second coordinate (x2): \"))\n",
    "y2 = int(input(\"enter the values of second coordinate (y2): \"))\n",
    "\n",
    "\n",
    "diff_x = x2 - x1\n",
    "diff_y = y2 - y1\n",
    "\n",
    "distance = math.sqrt((diff_x ** 2) + (diff_y ** 2))\n",
    "\n",
    "print(f\"The Euclidean distance between ({x1}, {y1}) and ({x2}, {y2}) is {distance}\")\n"
   ]
  },
  {
   "cell_type": "code",
   "execution_count": 83,
   "id": "de1ee57d",
   "metadata": {},
   "outputs": [
    {
     "name": "stdout",
     "output_type": "stream",
     "text": [
      "these cannot form a trianlgle\n"
     ]
    }
   ],
   "source": [
    "#9 Write a program that take a user input of three angles and will find out whether it can form a triangle or not.\n",
    "\n",
    "def Triangle_checker(angle1, angle2, angle3):\n",
    "\n",
    "    sum_of_all = angle1 + angle2 + angle3\n",
    "\n",
    "    if sum_of_all == 180:\n",
    "        print(\"It can form a triangle\")\n",
    "\n",
    "    else:\n",
    "        print(\"these cannot form a trianlgle\")\n",
    "\n",
    "Triangle_checker(60,60,50)"
   ]
  },
  {
   "cell_type": "code",
   "execution_count": 85,
   "id": "eb71e2e1",
   "metadata": {},
   "outputs": [
    {
     "name": "stdout",
     "output_type": "stream",
     "text": [
      "its a loss\n",
      "Its profit\n"
     ]
    }
   ],
   "source": [
    "#10 Write a program that will take user input of cost price and selling price and determines whether its a loss or a profit\n",
    "\n",
    "def Cost_Selling_price(Cp,Sp):\n",
    "\n",
    "    if Sp > Cp:\n",
    "        print(\"Its profit\")\n",
    "    elif Cp > Sp:\n",
    "        print(\"its a loss\")\n",
    "    else:\n",
    "        print(\"No gain and loss\")\n",
    "\n",
    "Cost_Selling_price(100,50)\n",
    "Cost_Selling_price(100,150)\n"
   ]
  },
  {
   "cell_type": "code",
   "execution_count": null,
   "id": "ea0b8d10",
   "metadata": {},
   "outputs": [
    {
     "name": "stdout",
     "output_type": "stream",
     "text": [
      "The simple interest is 1000.0\n"
     ]
    }
   ],
   "source": [
    "#11 Write a program to find the simple interest when the value of principle,rate of interest and time period is given.\n",
    "\n",
    "def finding_simple_interest(principle, rate_of_interest, time_period):\n",
    "\n",
    "    Simple_Interest = (principle * rate_of_interest * time_period) / 100\n",
    "\n",
    "    return Simple_Interest\n",
    "\n",
    "print(f\"The simple interest is {finding_simple_interest(10000, 5, 2)}\")"
   ]
  },
  {
   "cell_type": "code",
   "execution_count": 127,
   "id": "633ce51d",
   "metadata": {},
   "outputs": [
    {
     "data": {
      "text/plain": [
       "(785.3981633974483, 31.415926535897935)"
      ]
     },
     "execution_count": 127,
     "metadata": {},
     "output_type": "execute_result"
    }
   ],
   "source": [
    "#12 Write a program to find the volume of the cylinder. Also find the cost when ,when the cost of 1litre milk is 40Rs.\n",
    "\n",
    "def volume_of_cylinder(radius,height):\n",
    "\n",
    "    volume = math.pi * (radius**2)* height\n",
    "    volume_in_litres = volume / 1000\n",
    "\n",
    "    cost_per_litre = 40\n",
    "    total_cost = cost_per_litre * volume_in_litres\n",
    "\n",
    "    return volume, total_cost\n",
    "\n",
    "volume_of_cylinder(5,10)"
   ]
  },
  {
   "cell_type": "code",
   "execution_count": 130,
   "id": "4487aeef",
   "metadata": {},
   "outputs": [
    {
     "name": "stdout",
     "output_type": "stream",
     "text": [
      "336 is divisible by both 3 and 6\n",
      "337 is not divisible by both 3 and 6\n"
     ]
    }
   ],
   "source": [
    "#13 Write  a program that will tell whether the given number is divisible by 3 & 6.\n",
    "\n",
    "def number_divisible(number):\n",
    "\n",
    "    if number % 6 ==0:\n",
    "        print(f\"{number} is divisible by both 3 and 6\")\n",
    "\n",
    "    else:\n",
    "        print(f\"{number} is not divisible by both 3 and 6\")\n",
    "\n",
    "number_divisible(336)\n",
    "number_divisible(337)"
   ]
  },
  {
   "cell_type": "code",
   "execution_count": 146,
   "id": "8cf2a925",
   "metadata": {},
   "outputs": [
    {
     "name": "stdout",
     "output_type": "stream",
     "text": [
      "8 is the smallest angle between the hour and minutes hand\n",
      "240 is the smallest angle between the hour and minutes hand\n"
     ]
    }
   ],
   "source": [
    "#14 Given a string s representing time in 24-hour format \"HH:MM\", \n",
    "# compute the smallest angle in degrees between the hour and minute hands of an analog clock.\n",
    "\n",
    "\n",
    "total_minutes = 60\n",
    "def current_time(hour,minutes):\n",
    "\n",
    "    minutes_left = total_minutes - minutes\n",
    "    smallest_angle = minutes_left * 4\n",
    "\n",
    "    print(f\"{smallest_angle} is the smallest angle between the hour and minutes hand\")\n",
    "\n",
    "current_time(23,58)\n",
    "current_time(6,00)\n",
    "\n"
   ]
  },
  {
   "cell_type": "code",
   "execution_count": null,
   "id": "01d51ae2",
   "metadata": {},
   "outputs": [],
   "source": [
    "#14 Given a string s representing time in 24-hour format \"HH:MM\", \n",
    "# compute the smallest angle in degrees between the hour and minute hands of an analog clock.\n",
    "\n",
    "def current_time(hour, minutes):\n",
    "    # Convert 24-hour time to 12-hour time\n",
    "    hour = hour % 12\n",
    "\n",
    "    # Calculate the angles moved by hour and minute hands\n",
    "    hour_angle = 30 * hour + 0.5 * minutes\n",
    "    minute_angle = 6 * minutes\n",
    "\n",
    "    # Find the difference\n",
    "    angle = abs(hour_angle - minute_angle)\n",
    "\n",
    "    # Get the smaller angle\n",
    "    smallest_angle = min(angle, 360 - angle)\n",
    "\n",
    "    print(f\"At {hour:02d}:{minutes:02d}, the smallest angle is {smallest_angle:.2f}°\")"
   ]
  },
  {
   "cell_type": "markdown",
   "id": "66260b43",
   "metadata": {},
   "source": [
    "\n",
    "    print(f\"At {hour:02d}:{minutes:02d}, the smallest angle is {smallest_angle:.2f}°\")\n",
    "    this part is to be noted for further coding."
   ]
  },
  {
   "cell_type": "code",
   "execution_count": null,
   "id": "d47c33c1",
   "metadata": {},
   "outputs": [
    {
     "name": "stdout",
     "output_type": "stream",
     "text": [
      "the rectangles are not overlapping\n",
      "the rectangkes are overlapping\n"
     ]
    }
   ],
   "source": [
    "#15 Given two rectangles, find if the given two rectangles overlap or not. \n",
    "# A rectangle is denoted by providing the x and y coordinates of two points: the left top corner and the right bottom corner of the rectangle. \n",
    "# Two rectangles sharing a side are considered overlapping. \n",
    "# (L1 and R1 are the extreme points of the first rectangle and L2 and R2 are the extreme points of the second rectangle).\n",
    "\n",
    "def coordinates_of_closer_sides(x1,y1,x2,y2):\n",
    "\n",
    "    def coordinates_of_farther_sides(x1,y1,x2,y2):\n",
    "\n",
    "        if x1==x2:\n",
    "            print(\"the rectangkes are overlapping\")\n",
    "\n",
    "        elif y1==y2:\n",
    "            print(\"the rectangles are overlapping\")\n",
    "\n",
    "    if x1==x2:\n",
    "        print(\"the rectangkes are overlapping\")\n",
    "\n",
    "    elif y1==y2:\n",
    "        print(\"the rectangles are overlapping\")\n",
    "    \n",
    "    else:\n",
    "    \n",
    "        print(\"the rectangles are not overlapping\")\n",
    "\n",
    "    coordinates_of_farther_sides(5,10,5,20)\n",
    "\n",
    "coordinates_of_closer_sides(5,10,15,20)\n",
    "\n",
    "''' rectangle can overlap, even when their coordinates are not equal, so that's why this code is not enough for that. '''"
   ]
  },
  {
   "cell_type": "code",
   "execution_count": 11,
   "id": "7d8d7033",
   "metadata": {},
   "outputs": [
    {
     "name": "stdout",
     "output_type": "stream",
     "text": [
      "Overlaps\n"
     ]
    }
   ],
   "source": [
    "def rectangles_overlap(L1, R1, L2, R2):\n",
    "\n",
    "    if L1[0]>R2[0] or L2[0]>R1[0]:\n",
    "\n",
    "        return \"Do not Overlap\"\n",
    "    \n",
    "    if R1[1]>L2[1] or R2[1]>L1[1]:\n",
    "\n",
    "        return \"Do not overlap\"\n",
    "    \n",
    "    return \"Overlaps\"\n",
    "\n",
    "\n",
    "L1 = (0, 10)\n",
    "R1 = (10, 0)\n",
    "L2 = (5, 5)\n",
    "R2 = (15, 0)\n",
    "\n",
    "print(rectangles_overlap(L1, R1, L2, R2))\n",
    "\n"
   ]
  }
 ],
 "metadata": {
  "kernelspec": {
   "display_name": "Python 3",
   "language": "python",
   "name": "python3"
  },
  "language_info": {
   "codemirror_mode": {
    "name": "ipython",
    "version": 3
   },
   "file_extension": ".py",
   "mimetype": "text/x-python",
   "name": "python",
   "nbconvert_exporter": "python",
   "pygments_lexer": "ipython3",
   "version": "3.14.0"
  }
 },
 "nbformat": 4,
 "nbformat_minor": 5
}
